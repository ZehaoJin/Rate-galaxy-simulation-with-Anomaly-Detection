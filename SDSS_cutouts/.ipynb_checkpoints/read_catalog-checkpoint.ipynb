{
 "cells": [
  {
   "cell_type": "code",
   "execution_count": 1,
   "metadata": {},
   "outputs": [],
   "source": [
    "from astropy.table import QTable,join\n",
    "import matplotlib.pyplot as plt\n",
    "import numpy as np\n",
    "import seaborn as sns"
   ]
  },
  {
   "cell_type": "code",
   "execution_count": 2,
   "metadata": {},
   "outputs": [],
   "source": [
    "t_z=QTable.read('UPenn_PhotDec_CAST.fits')"
   ]
  },
  {
   "cell_type": "code",
   "execution_count": 3,
   "metadata": {},
   "outputs": [],
   "source": [
    "t_m=QTable.read('UPenn_PhotDec_Mstar_mlMendel14.dat',format='ascii')"
   ]
  },
  {
   "cell_type": "code",
   "execution_count": 4,
   "metadata": {},
   "outputs": [
    {
     "data": {
      "text/html": [
       "<i>QTable length=670722</i>\n",
       "<table id=\"table139672089390816\" class=\"table-striped table-bordered table-condensed\">\n",
       "<thead><tr><th>col1</th><th>col2</th><th>col3</th><th>col4</th><th>col5</th><th>col6</th><th>col7</th><th>col8</th><th>col9</th><th>col10</th></tr></thead>\n",
       "<thead><tr><th>int64</th><th>int64</th><th>float64</th><th>float64</th><th>float64</th><th>float64</th><th>float64</th><th>float64</th><th>float64</th><th>float64</th></tr></thead>\n",
       "<tr><td>1</td><td>0</td><td>9.137</td><td>9.137</td><td>9.037</td><td>9.037</td><td>9.145</td><td>9.045</td><td>9.151</td><td>9.051</td></tr>\n",
       "<tr><td>2</td><td>0</td><td>10.337</td><td>10.335</td><td>10.056</td><td>10.054</td><td>10.32</td><td>10.039</td><td>10.323</td><td>10.042</td></tr>\n",
       "<tr><td>3</td><td>0</td><td>11.035</td><td>11.028</td><td>11.137</td><td>11.13</td><td>11.058</td><td>11.16</td><td>11.017</td><td>11.119</td></tr>\n",
       "<tr><td>4</td><td>0</td><td>10.472</td><td>10.468</td><td>10.529</td><td>10.525</td><td>10.481</td><td>10.538</td><td>10.49</td><td>10.547</td></tr>\n",
       "<tr><td>5</td><td>0</td><td>10.592</td><td>10.591</td><td>10.532</td><td>10.531</td><td>10.621</td><td>10.561</td><td>10.61</td><td>10.55</td></tr>\n",
       "<tr><td>6</td><td>0</td><td>10.823</td><td>10.822</td><td>10.45</td><td>10.449</td><td>10.839</td><td>10.466</td><td>10.828</td><td>10.455</td></tr>\n",
       "<tr><td>7</td><td>0</td><td>9.536</td><td>9.536</td><td>9.432</td><td>9.432</td><td>9.509</td><td>9.405</td><td>9.539</td><td>9.435</td></tr>\n",
       "<tr><td>8</td><td>0</td><td>10.362</td><td>10.361</td><td>10.39</td><td>10.389</td><td>10.383</td><td>10.411</td><td>10.37</td><td>10.398</td></tr>\n",
       "<tr><td>9</td><td>0</td><td>10.012</td><td>10.012</td><td>10.042</td><td>10.042</td><td>10.038</td><td>10.068</td><td>10.035</td><td>10.065</td></tr>\n",
       "<tr><td>10</td><td>0</td><td>10.446</td><td>10.436</td><td>10.438</td><td>10.428</td><td>10.538</td><td>10.53</td><td>10.49</td><td>10.482</td></tr>\n",
       "<tr><td>...</td><td>...</td><td>...</td><td>...</td><td>...</td><td>...</td><td>...</td><td>...</td><td>...</td><td>...</td></tr>\n",
       "<tr><td>670713</td><td>0</td><td>10.947</td><td>10.927</td><td>10.944</td><td>10.924</td><td>10.983</td><td>10.98</td><td>10.947</td><td>10.944</td></tr>\n",
       "<tr><td>670714</td><td>0</td><td>11.025</td><td>11.025</td><td>11.06</td><td>11.06</td><td>11.017</td><td>11.052</td><td>11.032</td><td>11.067</td></tr>\n",
       "<tr><td>670715</td><td>0</td><td>9.799</td><td>9.799</td><td>9.624</td><td>9.624</td><td>9.825</td><td>9.65</td><td>9.833</td><td>9.658</td></tr>\n",
       "<tr><td>670716</td><td>0</td><td>10.834</td><td>10.807</td><td>10.828</td><td>10.801</td><td>10.896</td><td>10.89</td><td>10.702</td><td>10.696</td></tr>\n",
       "<tr><td>670717</td><td>0</td><td>9.552</td><td>9.55</td><td>9.369</td><td>9.367</td><td>9.577</td><td>9.394</td><td>9.569</td><td>9.386</td></tr>\n",
       "<tr><td>670718</td><td>0</td><td>10.831</td><td>10.83</td><td>10.878</td><td>10.877</td><td>10.885</td><td>10.932</td><td>10.891</td><td>10.938</td></tr>\n",
       "<tr><td>670719</td><td>-999</td><td>-999.0</td><td>-999.0</td><td>-999.0</td><td>-999.0</td><td>-999.0</td><td>-999.0</td><td>-999.0</td><td>-999.0</td></tr>\n",
       "<tr><td>670720</td><td>-999</td><td>-999.0</td><td>-999.0</td><td>-999.0</td><td>-999.0</td><td>-999.0</td><td>-999.0</td><td>-999.0</td><td>-999.0</td></tr>\n",
       "<tr><td>670721</td><td>-999</td><td>-999.0</td><td>-999.0</td><td>-999.0</td><td>-999.0</td><td>-999.0</td><td>-999.0</td><td>-999.0</td><td>-999.0</td></tr>\n",
       "<tr><td>670722</td><td>-999</td><td>-999.0</td><td>-999.0</td><td>-999.0</td><td>-999.0</td><td>-999.0</td><td>-999.0</td><td>-999.0</td><td>-999.0</td></tr>\n",
       "</table>"
      ],
      "text/plain": [
       "<QTable length=670722>\n",
       " col1   col2   col3    col4    col5    col6    col7    col8    col9   col10 \n",
       "int64  int64 float64 float64 float64 float64 float64 float64 float64 float64\n",
       "------ ----- ------- ------- ------- ------- ------- ------- ------- -------\n",
       "     1     0   9.137   9.137   9.037   9.037   9.145   9.045   9.151   9.051\n",
       "     2     0  10.337  10.335  10.056  10.054   10.32  10.039  10.323  10.042\n",
       "     3     0  11.035  11.028  11.137   11.13  11.058   11.16  11.017  11.119\n",
       "     4     0  10.472  10.468  10.529  10.525  10.481  10.538   10.49  10.547\n",
       "     5     0  10.592  10.591  10.532  10.531  10.621  10.561   10.61   10.55\n",
       "     6     0  10.823  10.822   10.45  10.449  10.839  10.466  10.828  10.455\n",
       "     7     0   9.536   9.536   9.432   9.432   9.509   9.405   9.539   9.435\n",
       "     8     0  10.362  10.361   10.39  10.389  10.383  10.411   10.37  10.398\n",
       "     9     0  10.012  10.012  10.042  10.042  10.038  10.068  10.035  10.065\n",
       "    10     0  10.446  10.436  10.438  10.428  10.538   10.53   10.49  10.482\n",
       "   ...   ...     ...     ...     ...     ...     ...     ...     ...     ...\n",
       "670713     0  10.947  10.927  10.944  10.924  10.983   10.98  10.947  10.944\n",
       "670714     0  11.025  11.025   11.06   11.06  11.017  11.052  11.032  11.067\n",
       "670715     0   9.799   9.799   9.624   9.624   9.825    9.65   9.833   9.658\n",
       "670716     0  10.834  10.807  10.828  10.801  10.896   10.89  10.702  10.696\n",
       "670717     0   9.552    9.55   9.369   9.367   9.577   9.394   9.569   9.386\n",
       "670718     0  10.831   10.83  10.878  10.877  10.885  10.932  10.891  10.938\n",
       "670719  -999  -999.0  -999.0  -999.0  -999.0  -999.0  -999.0  -999.0  -999.0\n",
       "670720  -999  -999.0  -999.0  -999.0  -999.0  -999.0  -999.0  -999.0  -999.0\n",
       "670721  -999  -999.0  -999.0  -999.0  -999.0  -999.0  -999.0  -999.0  -999.0\n",
       "670722  -999  -999.0  -999.0  -999.0  -999.0  -999.0  -999.0  -999.0  -999.0"
      ]
     },
     "execution_count": 4,
     "metadata": {},
     "output_type": "execute_result"
    }
   ],
   "source": [
    "t_m"
   ]
  },
  {
   "cell_type": "code",
   "execution_count": 5,
   "metadata": {},
   "outputs": [
    {
     "data": {
      "text/html": [
       "<i>QTable length=670722</i>\n",
       "<table id=\"table139672153130080\" class=\"table-striped table-bordered table-condensed\">\n",
       "<thead><tr><th>galcount</th><th>objid</th><th>SDSSIAU</th><th>badflag</th><th>nchild</th><th>mode</th><th>run</th><th>rerun</th><th>camCol</th><th>field</th><th>obj</th><th>stripe</th><th>startmu</th><th>specobjid</th><th>plate</th><th>mjd</th><th>fiberid</th><th>ra</th><th>dec</th><th>z</th><th>veldisp</th><th>veldispErr</th><th>eclass</th><th>p_el_debiased</th><th>p_cs_debiased</th><th>spiral</th><th>elliptical</th><th>uncertain</th></tr></thead>\n",
       "<thead><tr><th></th><th></th><th></th><th></th><th></th><th></th><th></th><th></th><th></th><th></th><th></th><th></th><th>arcsec</th><th></th><th></th><th>MJD</th><th></th><th>decimal degrees</th><th>decimal degrees</th><th></th><th>km / s</th><th>km / s</th><th></th><th></th><th></th><th></th><th></th><th></th></tr></thead>\n",
       "<thead><tr><th>int32</th><th>int64</th><th>bytes24</th><th>int32</th><th>int16</th><th>int16</th><th>int16</th><th>int16</th><th>int16</th><th>int16</th><th>int16</th><th>int32</th><th>float64</th><th>int64</th><th>int16</th><th>float64</th><th>int16</th><th>float32</th><th>float32</th><th>float32</th><th>float32</th><th>float32</th><th>float32</th><th>float32</th><th>float32</th><th>int32</th><th>int32</th><th>int32</th></tr></thead>\n",
       "<tr><td>1</td><td>587722952230174996</td><td>SDSS J154459.28-002830.9</td><td>64</td><td>0</td><td>1</td><td>745</td><td>40</td><td>2</td><td>518</td><td>276</td><td>10</td><td>849998.0</td><td>96486454284255232</td><td>342</td><td>51691.0</td><td>261</td><td>236.2469940185547</td><td>-0.4752640128135681</td><td>0.0302843</td><td>-9999.0</td><td>-9999.0</td><td>0.15935</td><td>0.165</td><td>0.739</td><td>0</td><td>0</td><td>1</td></tr>\n",
       "<tr><td>2</td><td>587722952230175035</td><td>SDSS J154508.88-003104.8</td><td>16</td><td>0</td><td>1</td><td>745</td><td>40</td><td>2</td><td>518</td><td>315</td><td>10</td><td>849998.0</td><td>96486454292643840</td><td>342</td><td>51691.0</td><td>263</td><td>236.28700256347656</td><td>-0.518002986907959</td><td>0.0779226</td><td>-9999.0</td><td>-9999.0</td><td>0.054718</td><td>0.029</td><td>0.937</td><td>1</td><td>0</td><td>0</td></tr>\n",
       "<tr><td>3</td><td>587722952230175138</td><td>SDSS J154522.08-002801.2</td><td>64</td><td>0</td><td>1</td><td>745</td><td>40</td><td>2</td><td>518</td><td>418</td><td>10</td><td>849998.0</td><td>96486454296838144</td><td>342</td><td>51691.0</td><td>264</td><td>236.3419952392578</td><td>-0.46702298521995544</td><td>0.160228</td><td>-9999.0</td><td>-9999.0</td><td>-0.120854</td><td>0.211</td><td>0.763</td><td>0</td><td>0</td><td>1</td></tr>\n",
       "<tr><td>4</td><td>587722952230175145</td><td>SDSS J154523.99-003553.6</td><td>80</td><td>0</td><td>1</td><td>745</td><td>40</td><td>2</td><td>518</td><td>425</td><td>10</td><td>849998.0</td><td>96486454217146368</td><td>342</td><td>51691.0</td><td>245</td><td>236.35000610351562</td><td>-0.5982369780540466</td><td>0.0715577</td><td>-9999.0</td><td>-9999.0</td><td>-0.0436237</td><td>0.171</td><td>0.787</td><td>1</td><td>0</td><td>0</td></tr>\n",
       "<tr><td>5</td><td>587722952230175173</td><td>SDSS J154528.55-003428.0</td><td>16</td><td>0</td><td>1</td><td>745</td><td>40</td><td>2</td><td>518</td><td>453</td><td>10</td><td>849998.0</td><td>96486454246506496</td><td>342</td><td>51691.0</td><td>252</td><td>236.36900329589844</td><td>-0.5744500160217285</td><td>0.0719751</td><td>-9999.0</td><td>-9999.0</td><td>-0.0681056</td><td>0.019</td><td>0.981</td><td>1</td><td>0</td><td>0</td></tr>\n",
       "<tr><td>6</td><td>587722952230240617</td><td>SDSS J154535.27-002936.4</td><td>80</td><td>0</td><td>1</td><td>745</td><td>40</td><td>2</td><td>519</td><td>361</td><td>10</td><td>849998.0</td><td>96486454196174848</td><td>342</td><td>51691.0</td><td>240</td><td>236.39700317382812</td><td>-0.49345698952674866</td><td>0.0548414</td><td>-9999.0</td><td>-9999.0</td><td>0.0482942</td><td>0.0</td><td>1.0</td><td>1</td><td>0</td><td>0</td></tr>\n",
       "<tr><td>7</td><td>587722952230240688</td><td>SDSS J154546.79-003022.6</td><td>80</td><td>0</td><td>1</td><td>745</td><td>40</td><td>2</td><td>519</td><td>432</td><td>10</td><td>849998.0</td><td>96486454150037504</td><td>342</td><td>51691.0</td><td>229</td><td>236.44500732421875</td><td>-0.5062869787216187</td><td>0.0545724</td><td>-9999.0</td><td>-9999.0</td><td>0.229558</td><td>0.112</td><td>0.464</td><td>0</td><td>0</td><td>1</td></tr>\n",
       "<tr><td>8</td><td>587722952230306064</td><td>SDSS J154611.52-003257.6</td><td>64</td><td>0</td><td>1</td><td>745</td><td>40</td><td>2</td><td>520</td><td>272</td><td>10</td><td>849998.0</td><td>96486454280060928</td><td>342</td><td>51691.0</td><td>260</td><td>236.54800415039062</td><td>-0.5493350028991699</td><td>0.0803382</td><td>-9999.0</td><td>-9999.0</td><td>-0.066639</td><td>0.059</td><td>0.941</td><td>1</td><td>0</td><td>0</td></tr>\n",
       "<tr><td>9</td><td>587722952230371590</td><td>SDSS J154641.76-003709.6</td><td>0</td><td>0</td><td>1</td><td>745</td><td>40</td><td>2</td><td>521</td><td>262</td><td>10</td><td>849998.0</td><td>96486454091317248</td><td>342</td><td>51691.0</td><td>215</td><td>236.6739959716797</td><td>-0.6193569898605347</td><td>0.0618053</td><td>117.03299713134766</td><td>19.8075008392334</td><td>-0.0840708</td><td>0.516</td><td>0.317</td><td>0</td><td>0</td><td>1</td></tr>\n",
       "<tr><td>...</td><td>...</td><td>...</td><td>...</td><td>...</td><td>...</td><td>...</td><td>...</td><td>...</td><td>...</td><td>...</td><td>...</td><td>...</td><td>...</td><td>...</td><td>...</td><td>...</td><td>...</td><td>...</td><td>...</td><td>...</td><td>...</td><td>...</td><td>...</td><td>...</td><td>...</td><td>...</td><td>...</td></tr>\n",
       "<tr><td>670713</td><td>588848901538447575</td><td>SDSS J141849.91+010320.1</td><td>64</td><td>0</td><td>1</td><td>756</td><td>44</td><td>6</td><td>660</td><td>215</td><td>10</td><td>533284.0</td><td>85791548268085248</td><td>304</td><td>51957.0</td><td>413</td><td>214.70799255371094</td><td>1.055590033531189</td><td>0.112736</td><td>178.13800048828125</td><td>17.218299865722656</td><td>-0.0888806</td><td>0.621</td><td>0.267</td><td>0</td><td>0</td><td>1</td></tr>\n",
       "<tr><td>670714</td><td>588848901538578615</td><td>SDSS J141932.39+010428.4</td><td>64</td><td>0</td><td>1</td><td>756</td><td>44</td><td>6</td><td>662</td><td>183</td><td>10</td><td>533284.0</td><td>85791548297445376</td><td>304</td><td>51957.0</td><td>420</td><td>214.88499450683594</td><td>1.0745600461959839</td><td>0.11885</td><td>-9999.0</td><td>-9999.0</td><td>-0.0933031</td><td>0.139</td><td>0.813</td><td>1</td><td>0</td><td>0</td></tr>\n",
       "<tr><td>670715</td><td>588848901538775274</td><td>SDSS J142145.59+010353.5</td><td>16</td><td>0</td><td>1</td><td>756</td><td>44</td><td>6</td><td>665</td><td>234</td><td>10</td><td>533284.0</td><td>85791548922396672</td><td>304</td><td>51957.0</td><td>569</td><td>215.44000244140625</td><td>1.0648800134658813</td><td>0.0547166</td><td>-9999.0</td><td>-9999.0</td><td>0.143023</td><td>0.367</td><td>0.466</td><td>0</td><td>0</td><td>1</td></tr>\n",
       "<tr><td>670716</td><td>588848901538906248</td><td>SDSS J142233.59+010408.0</td><td>16</td><td>0</td><td>1</td><td>756</td><td>44</td><td>6</td><td>667</td><td>136</td><td>10</td><td>533284.0</td><td>86071545495027712</td><td>305</td><td>51613.0</td><td>346</td><td>215.63999938964844</td><td>1.0688899755477905</td><td>0.117462</td><td>171.9239959716797</td><td>17.218299865722656</td><td>-0.156852</td><td>0.453</td><td>0.253</td><td>0</td><td>0</td><td>1</td></tr>\n",
       "<tr><td>670717</td><td>588848901539430566</td><td>SDSS J142729.75+010321.0</td><td>64</td><td>0</td><td>1</td><td>756</td><td>44</td><td>6</td><td>675</td><td>166</td><td>10</td><td>533284.0</td><td>86071546539409408</td><td>305</td><td>51613.0</td><td>595</td><td>216.87399291992188</td><td>1.0558500289916992</td><td>0.0257735</td><td>-9999.0</td><td>-9999.0</td><td>0.15027</td><td>0.082</td><td>0.918</td><td>1</td><td>0</td><td>0</td></tr>\n",
       "<tr><td>670718</td><td>588848901539627254</td><td>SDSS J142927.11+010258.9</td><td>0</td><td>0</td><td>1</td><td>756</td><td>44</td><td>6</td><td>678</td><td>246</td><td>10</td><td>533284.0</td><td>86353123655811072</td><td>306</td><td>51637.0</td><td>371</td><td>217.36300659179688</td><td>1.0497000217437744</td><td>0.0865557</td><td>131.2729949951172</td><td>10.74530029296875</td><td>-0.163945</td><td>1.0</td><td>0.0</td><td>0</td><td>1</td><td>0</td></tr>\n",
       "<tr><td>670719</td><td>588848901543624950</td><td>SDSS J150551.11+010428.7</td><td>16</td><td>0</td><td>2</td><td>756</td><td>44</td><td>6</td><td>739</td><td>246</td><td>10</td><td>533284.0</td><td>152219809755430912</td><td>540</td><td>51996.0</td><td>289</td><td>226.46299743652344</td><td>1.0746500492095947</td><td>0.0878054</td><td>-9999.0</td><td>-9999.0</td><td>0.0272293</td><td>-888.0</td><td>-888.0</td><td>-888</td><td>-888</td><td>-888</td></tr>\n",
       "<tr><td>670720</td><td>588848901543690438</td><td>SDSS J150611.27+010651.9</td><td>16</td><td>0</td><td>2</td><td>756</td><td>44</td><td>6</td><td>740</td><td>198</td><td>10</td><td>533284.0</td><td>151938424012537856</td><td>539</td><td>52017.0</td><td>60</td><td>226.5469970703125</td><td>1.1144299507141113</td><td>0.10459</td><td>-9999.0</td><td>-9999.0</td><td>-0.131829</td><td>-888.0</td><td>-888.0</td><td>-888</td><td>-888</td><td>-888</td></tr>\n",
       "<tr><td>670721</td><td>588848901543690529</td><td>SDSS J150623.04+010853.2</td><td>16</td><td>0</td><td>2</td><td>756</td><td>44</td><td>6</td><td>740</td><td>289</td><td>10</td><td>533284.0</td><td>151938423832182784</td><td>539</td><td>52017.0</td><td>17</td><td>226.5959930419922</td><td>1.1481300592422485</td><td>0.126815</td><td>-9999.0</td><td>-9999.0</td><td>0.0484977</td><td>-888.0</td><td>-888.0</td><td>-888</td><td>-888</td><td>-888</td></tr>\n",
       "<tr><td>670722</td><td>758877291571708037</td><td>SDSS J171951.12+263033.4</td><td>16</td><td>0</td><td>2</td><td>4832</td><td>648</td><td>2</td><td>62</td><td>133</td><td>1100</td><td>907200.0</td><td>275789175066722304</td><td>979</td><td>52427.0</td><td>147</td><td>259.9630126953125</td><td>26.509300231933594</td><td>0.105541</td><td>-9999.0</td><td>-9999.0</td><td>-0.0884812</td><td>-888.0</td><td>-888.0</td><td>-888</td><td>-888</td><td>-888</td></tr>\n",
       "</table>"
      ],
      "text/plain": [
       "<QTable length=670722>\n",
       "galcount       objid                SDSSIAU          ... elliptical uncertain\n",
       "                                                     ...                     \n",
       " int32         int64                bytes24          ...   int32      int32  \n",
       "-------- ------------------ ------------------------ ... ---------- ---------\n",
       "       1 587722952230174996 SDSS J154459.28-002830.9 ...          0         1\n",
       "       2 587722952230175035 SDSS J154508.88-003104.8 ...          0         0\n",
       "       3 587722952230175138 SDSS J154522.08-002801.2 ...          0         1\n",
       "       4 587722952230175145 SDSS J154523.99-003553.6 ...          0         0\n",
       "       5 587722952230175173 SDSS J154528.55-003428.0 ...          0         0\n",
       "       6 587722952230240617 SDSS J154535.27-002936.4 ...          0         0\n",
       "       7 587722952230240688 SDSS J154546.79-003022.6 ...          0         1\n",
       "       8 587722952230306064 SDSS J154611.52-003257.6 ...          0         0\n",
       "       9 587722952230371590 SDSS J154641.76-003709.6 ...          0         1\n",
       "     ...                ...                      ... ...        ...       ...\n",
       "  670713 588848901538447575 SDSS J141849.91+010320.1 ...          0         1\n",
       "  670714 588848901538578615 SDSS J141932.39+010428.4 ...          0         0\n",
       "  670715 588848901538775274 SDSS J142145.59+010353.5 ...          0         1\n",
       "  670716 588848901538906248 SDSS J142233.59+010408.0 ...          0         1\n",
       "  670717 588848901539430566 SDSS J142729.75+010321.0 ...          0         0\n",
       "  670718 588848901539627254 SDSS J142927.11+010258.9 ...          1         0\n",
       "  670719 588848901543624950 SDSS J150551.11+010428.7 ...       -888      -888\n",
       "  670720 588848901543690438 SDSS J150611.27+010651.9 ...       -888      -888\n",
       "  670721 588848901543690529 SDSS J150623.04+010853.2 ...       -888      -888\n",
       "  670722 758877291571708037 SDSS J171951.12+263033.4 ...       -888      -888"
      ]
     },
     "execution_count": 5,
     "metadata": {},
     "output_type": "execute_result"
    }
   ],
   "source": [
    "t_z"
   ]
  },
  {
   "cell_type": "code",
   "execution_count": 6,
   "metadata": {},
   "outputs": [
    {
     "data": {
      "text/plain": [
       "Text(0.5, 0, 'stellar mass')"
      ]
     },
     "execution_count": 6,
     "metadata": {},
     "output_type": "execute_result"
    },
    {
     "data": {
      "image/png": "[encoded data removed]",
      "text/plain": [
       "<Figure size 432x288 with 1 Axes>"
      ]
     },
     "metadata": {
      "needs_background": "light"
     },
     "output_type": "display_data"
    }
   ],
   "source": [
    "plt.hist(t_m['col4'][t_m['col4']>0],bins='auto')\n",
    "plt.xlabel('stellar mass')"
   ]
  },
  {
   "cell_type": "code",
   "execution_count": 7,
   "metadata": {},
   "outputs": [],
   "source": [
    "t_m.rename_column('col1','galcount')"
   ]
  },
  {
   "cell_type": "code",
   "execution_count": 8,
   "metadata": {},
   "outputs": [],
   "source": [
    "t_m.rename_column('col4','m')"
   ]
  },
  {
   "cell_type": "code",
   "execution_count": 9,
   "metadata": {},
   "outputs": [],
   "source": [
    "t=join(t_z,t_m)"
   ]
  },
  {
   "cell_type": "code",
   "execution_count": 10,
   "metadata": {},
   "outputs": [
    {
     "data": {
      "text/html": [
       "<i>QTable length=670722</i>\n",
       "<table id=\"table139671949287280\" class=\"table-striped table-bordered table-condensed\">\n",
       "<thead><tr><th>galcount</th><th>objid</th><th>SDSSIAU</th><th>badflag</th><th>nchild</th><th>mode</th><th>run</th><th>rerun</th><th>camCol</th><th>field</th><th>obj</th><th>stripe</th><th>startmu</th><th>specobjid</th><th>plate</th><th>mjd</th><th>fiberid</th><th>ra</th><th>dec</th><th>z</th><th>veldisp</th><th>veldispErr</th><th>eclass</th><th>p_el_debiased</th><th>p_cs_debiased</th><th>spiral</th><th>elliptical</th><th>uncertain</th><th>col2</th><th>col3</th><th>m</th><th>col5</th><th>col6</th><th>col7</th><th>col8</th><th>col9</th><th>col10</th></tr></thead>\n",
       "<thead><tr><th></th><th></th><th></th><th></th><th></th><th></th><th></th><th></th><th></th><th></th><th></th><th></th><th>arcsec</th><th></th><th></th><th>MJD</th><th></th><th>decimal degrees</th><th>decimal degrees</th><th></th><th>km / s</th><th>km / s</th><th></th><th></th><th></th><th></th><th></th><th></th><th></th><th></th><th></th><th></th><th></th><th></th><th></th><th></th><th></th></tr></thead>\n",
       "<thead><tr><th>int64</th><th>int64</th><th>bytes24</th><th>int32</th><th>int16</th><th>int16</th><th>int16</th><th>int16</th><th>int16</th><th>int16</th><th>int16</th><th>int32</th><th>float64</th><th>int64</th><th>int16</th><th>float64</th><th>int16</th><th>float32</th><th>float32</th><th>float32</th><th>float32</th><th>float32</th><th>float32</th><th>float32</th><th>float32</th><th>int32</th><th>int32</th><th>int32</th><th>int64</th><th>float64</th><th>float64</th><th>float64</th><th>float64</th><th>float64</th><th>float64</th><th>float64</th><th>float64</th></tr></thead>\n",
       "<tr><td>1</td><td>587722952230174996</td><td>SDSS J154459.28-002830.9</td><td>64</td><td>0</td><td>1</td><td>745</td><td>40</td><td>2</td><td>518</td><td>276</td><td>10</td><td>849998.0</td><td>96486454284255232</td><td>342</td><td>51691.0</td><td>261</td><td>236.2469940185547</td><td>-0.4752640128135681</td><td>0.0302843</td><td>-9999.0</td><td>-9999.0</td><td>0.15935</td><td>0.165</td><td>0.739</td><td>0</td><td>0</td><td>1</td><td>0</td><td>9.137</td><td>9.137</td><td>9.037</td><td>9.037</td><td>9.145</td><td>9.045</td><td>9.151</td><td>9.051</td></tr>\n",
       "<tr><td>2</td><td>587722952230175035</td><td>SDSS J154508.88-003104.8</td><td>16</td><td>0</td><td>1</td><td>745</td><td>40</td><td>2</td><td>518</td><td>315</td><td>10</td><td>849998.0</td><td>96486454292643840</td><td>342</td><td>51691.0</td><td>263</td><td>236.28700256347656</td><td>-0.518002986907959</td><td>0.0779226</td><td>-9999.0</td><td>-9999.0</td><td>0.054718</td><td>0.029</td><td>0.937</td><td>1</td><td>0</td><td>0</td><td>0</td><td>10.337</td><td>10.335</td><td>10.056</td><td>10.054</td><td>10.32</td><td>10.039</td><td>10.323</td><td>10.042</td></tr>\n",
       "<tr><td>3</td><td>587722952230175138</td><td>SDSS J154522.08-002801.2</td><td>64</td><td>0</td><td>1</td><td>745</td><td>40</td><td>2</td><td>518</td><td>418</td><td>10</td><td>849998.0</td><td>96486454296838144</td><td>342</td><td>51691.0</td><td>264</td><td>236.3419952392578</td><td>-0.46702298521995544</td><td>0.160228</td><td>-9999.0</td><td>-9999.0</td><td>-0.120854</td><td>0.211</td><td>0.763</td><td>0</td><td>0</td><td>1</td><td>0</td><td>11.035</td><td>11.028</td><td>11.137</td><td>11.13</td><td>11.058</td><td>11.16</td><td>11.017</td><td>11.119</td></tr>\n",
       "<tr><td>4</td><td>587722952230175145</td><td>SDSS J154523.99-003553.6</td><td>80</td><td>0</td><td>1</td><td>745</td><td>40</td><td>2</td><td>518</td><td>425</td><td>10</td><td>849998.0</td><td>96486454217146368</td><td>342</td><td>51691.0</td><td>245</td><td>236.35000610351562</td><td>-0.5982369780540466</td><td>0.0715577</td><td>-9999.0</td><td>-9999.0</td><td>-0.0436237</td><td>0.171</td><td>0.787</td><td>1</td><td>0</td><td>0</td><td>0</td><td>10.472</td><td>10.468</td><td>10.529</td><td>10.525</td><td>10.481</td><td>10.538</td><td>10.49</td><td>10.547</td></tr>\n",
       "<tr><td>5</td><td>587722952230175173</td><td>SDSS J154528.55-003428.0</td><td>16</td><td>0</td><td>1</td><td>745</td><td>40</td><td>2</td><td>518</td><td>453</td><td>10</td><td>849998.0</td><td>96486454246506496</td><td>342</td><td>51691.0</td><td>252</td><td>236.36900329589844</td><td>-0.5744500160217285</td><td>0.0719751</td><td>-9999.0</td><td>-9999.0</td><td>-0.0681056</td><td>0.019</td><td>0.981</td><td>1</td><td>0</td><td>0</td><td>0</td><td>10.592</td><td>10.591</td><td>10.532</td><td>10.531</td><td>10.621</td><td>10.561</td><td>10.61</td><td>10.55</td></tr>\n",
       "<tr><td>6</td><td>587722952230240617</td><td>SDSS J154535.27-002936.4</td><td>80</td><td>0</td><td>1</td><td>745</td><td>40</td><td>2</td><td>519</td><td>361</td><td>10</td><td>849998.0</td><td>96486454196174848</td><td>342</td><td>51691.0</td><td>240</td><td>236.39700317382812</td><td>-0.49345698952674866</td><td>0.0548414</td><td>-9999.0</td><td>-9999.0</td><td>0.0482942</td><td>0.0</td><td>1.0</td><td>1</td><td>0</td><td>0</td><td>0</td><td>10.823</td><td>10.822</td><td>10.45</td><td>10.449</td><td>10.839</td><td>10.466</td><td>10.828</td><td>10.455</td></tr>\n",
       "<tr><td>7</td><td>587722952230240688</td><td>SDSS J154546.79-003022.6</td><td>80</td><td>0</td><td>1</td><td>745</td><td>40</td><td>2</td><td>519</td><td>432</td><td>10</td><td>849998.0</td><td>96486454150037504</td><td>342</td><td>51691.0</td><td>229</td><td>236.44500732421875</td><td>-0.5062869787216187</td><td>0.0545724</td><td>-9999.0</td><td>-9999.0</td><td>0.229558</td><td>0.112</td><td>0.464</td><td>0</td><td>0</td><td>1</td><td>0</td><td>9.536</td><td>9.536</td><td>9.432</td><td>9.432</td><td>9.509</td><td>9.405</td><td>9.539</td><td>9.435</td></tr>\n",
       "<tr><td>8</td><td>587722952230306064</td><td>SDSS J154611.52-003257.6</td><td>64</td><td>0</td><td>1</td><td>745</td><td>40</td><td>2</td><td>520</td><td>272</td><td>10</td><td>849998.0</td><td>96486454280060928</td><td>342</td><td>51691.0</td><td>260</td><td>236.54800415039062</td><td>-0.5493350028991699</td><td>0.0803382</td><td>-9999.0</td><td>-9999.0</td><td>-0.066639</td><td>0.059</td><td>0.941</td><td>1</td><td>0</td><td>0</td><td>0</td><td>10.362</td><td>10.361</td><td>10.39</td><td>10.389</td><td>10.383</td><td>10.411</td><td>10.37</td><td>10.398</td></tr>\n",
       "<tr><td>9</td><td>587722952230371590</td><td>SDSS J154641.76-003709.6</td><td>0</td><td>0</td><td>1</td><td>745</td><td>40</td><td>2</td><td>521</td><td>262</td><td>10</td><td>849998.0</td><td>96486454091317248</td><td>342</td><td>51691.0</td><td>215</td><td>236.6739959716797</td><td>-0.6193569898605347</td><td>0.0618053</td><td>117.03299713134766</td><td>19.8075008392334</td><td>-0.0840708</td><td>0.516</td><td>0.317</td><td>0</td><td>0</td><td>1</td><td>0</td><td>10.012</td><td>10.012</td><td>10.042</td><td>10.042</td><td>10.038</td><td>10.068</td><td>10.035</td><td>10.065</td></tr>\n",
       "<tr><td>...</td><td>...</td><td>...</td><td>...</td><td>...</td><td>...</td><td>...</td><td>...</td><td>...</td><td>...</td><td>...</td><td>...</td><td>...</td><td>...</td><td>...</td><td>...</td><td>...</td><td>...</td><td>...</td><td>...</td><td>...</td><td>...</td><td>...</td><td>...</td><td>...</td><td>...</td><td>...</td><td>...</td><td>...</td><td>...</td><td>...</td><td>...</td><td>...</td><td>...</td><td>...</td><td>...</td><td>...</td></tr>\n",
       "<tr><td>670713</td><td>588848901538447575</td><td>SDSS J141849.91+010320.1</td><td>64</td><td>0</td><td>1</td><td>756</td><td>44</td><td>6</td><td>660</td><td>215</td><td>10</td><td>533284.0</td><td>85791548268085248</td><td>304</td><td>51957.0</td><td>413</td><td>214.70799255371094</td><td>1.055590033531189</td><td>0.112736</td><td>178.13800048828125</td><td>17.218299865722656</td><td>-0.0888806</td><td>0.621</td><td>0.267</td><td>0</td><td>0</td><td>1</td><td>0</td><td>10.947</td><td>10.927</td><td>10.944</td><td>10.924</td><td>10.983</td><td>10.98</td><td>10.947</td><td>10.944</td></tr>\n",
       "<tr><td>670714</td><td>588848901538578615</td><td>SDSS J141932.39+010428.4</td><td>64</td><td>0</td><td>1</td><td>756</td><td>44</td><td>6</td><td>662</td><td>183</td><td>10</td><td>533284.0</td><td>85791548297445376</td><td>304</td><td>51957.0</td><td>420</td><td>214.88499450683594</td><td>1.0745600461959839</td><td>0.11885</td><td>-9999.0</td><td>-9999.0</td><td>-0.0933031</td><td>0.139</td><td>0.813</td><td>1</td><td>0</td><td>0</td><td>0</td><td>11.025</td><td>11.025</td><td>11.06</td><td>11.06</td><td>11.017</td><td>11.052</td><td>11.032</td><td>11.067</td></tr>\n",
       "<tr><td>670715</td><td>588848901538775274</td><td>SDSS J142145.59+010353.5</td><td>16</td><td>0</td><td>1</td><td>756</td><td>44</td><td>6</td><td>665</td><td>234</td><td>10</td><td>533284.0</td><td>85791548922396672</td><td>304</td><td>51957.0</td><td>569</td><td>215.44000244140625</td><td>1.0648800134658813</td><td>0.0547166</td><td>-9999.0</td><td>-9999.0</td><td>0.143023</td><td>0.367</td><td>0.466</td><td>0</td><td>0</td><td>1</td><td>0</td><td>9.799</td><td>9.799</td><td>9.624</td><td>9.624</td><td>9.825</td><td>9.65</td><td>9.833</td><td>9.658</td></tr>\n",
       "<tr><td>670716</td><td>588848901538906248</td><td>SDSS J142233.59+010408.0</td><td>16</td><td>0</td><td>1</td><td>756</td><td>44</td><td>6</td><td>667</td><td>136</td><td>10</td><td>533284.0</td><td>86071545495027712</td><td>305</td><td>51613.0</td><td>346</td><td>215.63999938964844</td><td>1.0688899755477905</td><td>0.117462</td><td>171.9239959716797</td><td>17.218299865722656</td><td>-0.156852</td><td>0.453</td><td>0.253</td><td>0</td><td>0</td><td>1</td><td>0</td><td>10.834</td><td>10.807</td><td>10.828</td><td>10.801</td><td>10.896</td><td>10.89</td><td>10.702</td><td>10.696</td></tr>\n",
       "<tr><td>670717</td><td>588848901539430566</td><td>SDSS J142729.75+010321.0</td><td>64</td><td>0</td><td>1</td><td>756</td><td>44</td><td>6</td><td>675</td><td>166</td><td>10</td><td>533284.0</td><td>86071546539409408</td><td>305</td><td>51613.0</td><td>595</td><td>216.87399291992188</td><td>1.0558500289916992</td><td>0.0257735</td><td>-9999.0</td><td>-9999.0</td><td>0.15027</td><td>0.082</td><td>0.918</td><td>1</td><td>0</td><td>0</td><td>0</td><td>9.552</td><td>9.55</td><td>9.369</td><td>9.367</td><td>9.577</td><td>9.394</td><td>9.569</td><td>9.386</td></tr>\n",
       "<tr><td>670718</td><td>588848901539627254</td><td>SDSS J142927.11+010258.9</td><td>0</td><td>0</td><td>1</td><td>756</td><td>44</td><td>6</td><td>678</td><td>246</td><td>10</td><td>533284.0</td><td>86353123655811072</td><td>306</td><td>51637.0</td><td>371</td><td>217.36300659179688</td><td>1.0497000217437744</td><td>0.0865557</td><td>131.2729949951172</td><td>10.74530029296875</td><td>-0.163945</td><td>1.0</td><td>0.0</td><td>0</td><td>1</td><td>0</td><td>0</td><td>10.831</td><td>10.83</td><td>10.878</td><td>10.877</td><td>10.885</td><td>10.932</td><td>10.891</td><td>10.938</td></tr>\n",
       "<tr><td>670719</td><td>588848901543624950</td><td>SDSS J150551.11+010428.7</td><td>16</td><td>0</td><td>2</td><td>756</td><td>44</td><td>6</td><td>739</td><td>246</td><td>10</td><td>533284.0</td><td>152219809755430912</td><td>540</td><td>51996.0</td><td>289</td><td>226.46299743652344</td><td>1.0746500492095947</td><td>0.0878054</td><td>-9999.0</td><td>-9999.0</td><td>0.0272293</td><td>-888.0</td><td>-888.0</td><td>-888</td><td>-888</td><td>-888</td><td>-999</td><td>-999.0</td><td>-999.0</td><td>-999.0</td><td>-999.0</td><td>-999.0</td><td>-999.0</td><td>-999.0</td><td>-999.0</td></tr>\n",
       "<tr><td>670720</td><td>588848901543690438</td><td>SDSS J150611.27+010651.9</td><td>16</td><td>0</td><td>2</td><td>756</td><td>44</td><td>6</td><td>740</td><td>198</td><td>10</td><td>533284.0</td><td>151938424012537856</td><td>539</td><td>52017.0</td><td>60</td><td>226.5469970703125</td><td>1.1144299507141113</td><td>0.10459</td><td>-9999.0</td><td>-9999.0</td><td>-0.131829</td><td>-888.0</td><td>-888.0</td><td>-888</td><td>-888</td><td>-888</td><td>-999</td><td>-999.0</td><td>-999.0</td><td>-999.0</td><td>-999.0</td><td>-999.0</td><td>-999.0</td><td>-999.0</td><td>-999.0</td></tr>\n",
       "<tr><td>670721</td><td>588848901543690529</td><td>SDSS J150623.04+010853.2</td><td>16</td><td>0</td><td>2</td><td>756</td><td>44</td><td>6</td><td>740</td><td>289</td><td>10</td><td>533284.0</td><td>151938423832182784</td><td>539</td><td>52017.0</td><td>17</td><td>226.5959930419922</td><td>1.1481300592422485</td><td>0.126815</td><td>-9999.0</td><td>-9999.0</td><td>0.0484977</td><td>-888.0</td><td>-888.0</td><td>-888</td><td>-888</td><td>-888</td><td>-999</td><td>-999.0</td><td>-999.0</td><td>-999.0</td><td>-999.0</td><td>-999.0</td><td>-999.0</td><td>-999.0</td><td>-999.0</td></tr>\n",
       "<tr><td>670722</td><td>758877291571708037</td><td>SDSS J171951.12+263033.4</td><td>16</td><td>0</td><td>2</td><td>4832</td><td>648</td><td>2</td><td>62</td><td>133</td><td>1100</td><td>907200.0</td><td>275789175066722304</td><td>979</td><td>52427.0</td><td>147</td><td>259.9630126953125</td><td>26.509300231933594</td><td>0.105541</td><td>-9999.0</td><td>-9999.0</td><td>-0.0884812</td><td>-888.0</td><td>-888.0</td><td>-888</td><td>-888</td><td>-888</td><td>-999</td><td>-999.0</td><td>-999.0</td><td>-999.0</td><td>-999.0</td><td>-999.0</td><td>-999.0</td><td>-999.0</td><td>-999.0</td></tr>\n",
       "</table>"
      ],
      "text/plain": [
       "<QTable length=670722>\n",
       "galcount       objid                SDSSIAU          ...   col8    col9   col10 \n",
       "                                                     ...                        \n",
       " int64         int64                bytes24          ... float64 float64 float64\n",
       "-------- ------------------ ------------------------ ... ------- ------- -------\n",
       "       1 587722952230174996 SDSS J154459.28-002830.9 ...   9.045   9.151   9.051\n",
       "       2 587722952230175035 SDSS J154508.88-003104.8 ...  10.039  10.323  10.042\n",
       "       3 587722952230175138 SDSS J154522.08-002801.2 ...   11.16  11.017  11.119\n",
       "       4 587722952230175145 SDSS J154523.99-003553.6 ...  10.538   10.49  10.547\n",
       "       5 587722952230175173 SDSS J154528.55-003428.0 ...  10.561   10.61   10.55\n",
       "       6 587722952230240617 SDSS J154535.27-002936.4 ...  10.466  10.828  10.455\n",
       "       7 587722952230240688 SDSS J154546.79-003022.6 ...   9.405   9.539   9.435\n",
       "       8 587722952230306064 SDSS J154611.52-003257.6 ...  10.411   10.37  10.398\n",
       "       9 587722952230371590 SDSS J154641.76-003709.6 ...  10.068  10.035  10.065\n",
       "     ...                ...                      ... ...     ...     ...     ...\n",
       "  670713 588848901538447575 SDSS J141849.91+010320.1 ...   10.98  10.947  10.944\n",
       "  670714 588848901538578615 SDSS J141932.39+010428.4 ...  11.052  11.032  11.067\n",
       "  670715 588848901538775274 SDSS J142145.59+010353.5 ...    9.65   9.833   9.658\n",
       "  670716 588848901538906248 SDSS J142233.59+010408.0 ...   10.89  10.702  10.696\n",
       "  670717 588848901539430566 SDSS J142729.75+010321.0 ...   9.394   9.569   9.386\n",
       "  670718 588848901539627254 SDSS J142927.11+010258.9 ...  10.932  10.891  10.938\n",
       "  670719 588848901543624950 SDSS J150551.11+010428.7 ...  -999.0  -999.0  -999.0\n",
       "  670720 588848901543690438 SDSS J150611.27+010651.9 ...  -999.0  -999.0  -999.0\n",
       "  670721 588848901543690529 SDSS J150623.04+010853.2 ...  -999.0  -999.0  -999.0\n",
       "  670722 758877291571708037 SDSS J171951.12+263033.4 ...  -999.0  -999.0  -999.0"
      ]
     },
     "execution_count": 10,
     "metadata": {},
     "output_type": "execute_result"
    }
   ],
   "source": [
    "t"
   ]
  },
  {
   "cell_type": "code",
   "execution_count": 11,
   "metadata": {},
   "outputs": [],
   "source": [
    "# cut on stellar mass 10^9 solar mass \n",
    "t=t[t['m']>=9]"
   ]
  },
  {
   "cell_type": "code",
   "execution_count": 12,
   "metadata": {},
   "outputs": [
    {
     "data": {
      "text/plain": [
       "Text(0.5, 0, 'stellar mass')"
      ]
     },
     "execution_count": 12,
     "metadata": {},
     "output_type": "execute_result"
    },
    {
     "data": {
      "image/png": "[encoded data removed]",
      "text/plain": [
       "<Figure size 432x288 with 1 Axes>"
      ]
     },
     "metadata": {
      "needs_background": "light"
     },
     "output_type": "display_data"
    }
   ],
   "source": [
    "plt.hist(t['m'],bins='auto')\n",
    "plt.xlabel('stellar mass')"
   ]
  },
  {
   "cell_type": "code",
   "execution_count": 13,
   "metadata": {},
   "outputs": [],
   "source": [
    "coord=np.array([t['ra'],t['dec']])\n",
    "coord=coord.T"
   ]
  },
  {
   "cell_type": "code",
   "execution_count": 14,
   "metadata": {},
   "outputs": [
    {
     "data": {
      "text/plain": [
       "(643663, 2)"
      ]
     },
     "execution_count": 14,
     "metadata": {},
     "output_type": "execute_result"
    }
   ],
   "source": [
    "coord.shape"
   ]
  },
  {
   "cell_type": "code",
   "execution_count": 15,
   "metadata": {},
   "outputs": [],
   "source": [
    "#np.save('coord.npy',coord)"
   ]
  }
 ],
 "metadata": {
  "kernelspec": {
   "display_name": "base",
   "language": "python",
   "name": "base"
  },
  "language_info": {
   "codemirror_mode": {
    "name": "ipython",
    "version": 3
   },
   "file_extension": ".py",
   "mimetype": "text/x-python",
   "name": "python",
   "nbconvert_exporter": "python",
   "pygments_lexer": "ipython3",
   "version": "3.8.5"
  }
 },
 "nbformat": 4,
 "nbformat_minor": 4
}
